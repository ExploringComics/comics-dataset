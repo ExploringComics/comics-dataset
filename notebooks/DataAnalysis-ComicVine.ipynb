{
 "cells": [
  {
   "cell_type": "markdown",
   "metadata": {},
   "source": [
    "# Exploring Collected ComicVine Data"
   ]
  },
  {
   "cell_type": "code",
   "execution_count": 1,
   "metadata": {},
   "outputs": [],
   "source": [
    "import pandas as pd\n",
    "import pandas_profiling\n",
    "import os"
   ]
  },
  {
   "cell_type": "markdown",
   "metadata": {},
   "source": [
    "## Characters"
   ]
  },
  {
   "cell_type": "code",
   "execution_count": 2,
   "metadata": {},
   "outputs": [],
   "source": [
    "df_characters = pd.read_json(\"../ComicVine/characters.json\")"
   ]
  },
  {
   "cell_type": "code",
   "execution_count": 3,
   "metadata": {},
   "outputs": [
    {
     "data": {
      "text/plain": [
       "(129130, 17)"
      ]
     },
     "execution_count": 3,
     "metadata": {},
     "output_type": "execute_result"
    }
   ],
   "source": [
    "df_characters.shape"
   ]
  },
  {
   "cell_type": "code",
   "execution_count": 4,
   "metadata": {},
   "outputs": [
    {
     "data": {
      "text/plain": [
       "Index(['aliases', 'api_detail_url', 'birth', 'count_of_issue_appearances',\n",
       "       'date_added', 'date_last_updated', 'deck', 'description',\n",
       "       'first_appeared_in_issue', 'gender', 'id', 'image', 'name', 'origin',\n",
       "       'publisher', 'real_name', 'site_detail_url'],\n",
       "      dtype='object')"
      ]
     },
     "execution_count": 4,
     "metadata": {},
     "output_type": "execute_result"
    }
   ],
   "source": [
    "df_characters.columns"
   ]
  },
  {
   "cell_type": "code",
   "execution_count": 5,
   "metadata": {},
   "outputs": [
    {
     "data": {
      "text/html": [
       "<div>\n",
       "<style scoped>\n",
       "    .dataframe tbody tr th:only-of-type {\n",
       "        vertical-align: middle;\n",
       "    }\n",
       "\n",
       "    .dataframe tbody tr th {\n",
       "        vertical-align: top;\n",
       "    }\n",
       "\n",
       "    .dataframe thead th {\n",
       "        text-align: right;\n",
       "    }\n",
       "</style>\n",
       "<table border=\"1\" class=\"dataframe\">\n",
       "  <thead>\n",
       "    <tr style=\"text-align: right;\">\n",
       "      <th></th>\n",
       "      <th>aliases</th>\n",
       "      <th>api_detail_url</th>\n",
       "      <th>birth</th>\n",
       "      <th>count_of_issue_appearances</th>\n",
       "      <th>date_added</th>\n",
       "      <th>date_last_updated</th>\n",
       "      <th>deck</th>\n",
       "      <th>description</th>\n",
       "      <th>first_appeared_in_issue</th>\n",
       "      <th>gender</th>\n",
       "      <th>id</th>\n",
       "      <th>image</th>\n",
       "      <th>name</th>\n",
       "      <th>origin</th>\n",
       "      <th>publisher</th>\n",
       "      <th>real_name</th>\n",
       "      <th>site_detail_url</th>\n",
       "    </tr>\n",
       "  </thead>\n",
       "  <tbody>\n",
       "    <tr>\n",
       "      <th>0</th>\n",
       "      <td>Garth Ranzz\\nLightning Boy\\nProty\\nLive Wire\\n...</td>\n",
       "      <td>https://comicvine.gamespot.com/api/character/4...</td>\n",
       "      <td>None</td>\n",
       "      <td>903</td>\n",
       "      <td>2008-06-06 11:27:37</td>\n",
       "      <td>2017-08-29 21:57:24</td>\n",
       "      <td>Garth Ranzz is one of the three original membe...</td>\n",
       "      <td>&lt;h2&gt;Origin&lt;/h2&gt;&lt;figure data-align=\"right\" data...</td>\n",
       "      <td>{'api_detail_url': 'https://comicvine.gamespot...</td>\n",
       "      <td>1</td>\n",
       "      <td>1253</td>\n",
       "      <td>{'icon_url': 'https://comicvine.gamespot.com/a...</td>\n",
       "      <td>Lightning Lad</td>\n",
       "      <td>{'api_detail_url': 'https://comicvine.gamespot...</td>\n",
       "      <td>{'api_detail_url': 'https://comicvine.gamespot...</td>\n",
       "      <td>Garth Ranzz</td>\n",
       "      <td>https://comicvine.gamespot.com/lightning-lad/4...</td>\n",
       "    </tr>\n",
       "    <tr>\n",
       "      <th>1</th>\n",
       "      <td>Nura Nal\\nDreamy\\nDreamer\\nMiss Terious\\nNura ...</td>\n",
       "      <td>https://comicvine.gamespot.com/api/character/4...</td>\n",
       "      <td>None</td>\n",
       "      <td>385</td>\n",
       "      <td>2008-06-06 11:27:38</td>\n",
       "      <td>2018-04-30 22:31:45</td>\n",
       "      <td>Nura Nal is from the planet Naltor, where all ...</td>\n",
       "      <td>&lt;h2&gt;Origin&lt;/h2&gt;&lt;figure data-align=\"right\" data...</td>\n",
       "      <td>{'api_detail_url': 'https://comicvine.gamespot...</td>\n",
       "      <td>2</td>\n",
       "      <td>1254</td>\n",
       "      <td>{'icon_url': 'https://comicvine.gamespot.com/a...</td>\n",
       "      <td>Dream Girl</td>\n",
       "      <td>{'api_detail_url': 'https://comicvine.gamespot...</td>\n",
       "      <td>{'api_detail_url': 'https://comicvine.gamespot...</td>\n",
       "      <td>Nura Nal</td>\n",
       "      <td>https://comicvine.gamespot.com/dream-girl/4005...</td>\n",
       "    </tr>\n",
       "    <tr>\n",
       "      <th>2</th>\n",
       "      <td>Querl Dox\\nBrainiac 5.1\\nBrainy\\nBrainiac \\nB-...</td>\n",
       "      <td>https://comicvine.gamespot.com/api/character/4...</td>\n",
       "      <td>None</td>\n",
       "      <td>977</td>\n",
       "      <td>2008-06-06 11:27:37</td>\n",
       "      <td>2018-01-17 00:18:08</td>\n",
       "      <td>Brainiac 5 is a long-standing member of the Le...</td>\n",
       "      <td>&lt;h2&gt;Current Events&lt;/h2&gt;&lt;p&gt;Brainiac 5 is presen...</td>\n",
       "      <td>{'api_detail_url': 'https://comicvine.gamespot...</td>\n",
       "      <td>1</td>\n",
       "      <td>1255</td>\n",
       "      <td>{'icon_url': 'https://comicvine.gamespot.com/a...</td>\n",
       "      <td>Brainiac 5</td>\n",
       "      <td>{'api_detail_url': 'https://comicvine.gamespot...</td>\n",
       "      <td>{'api_detail_url': 'https://comicvine.gamespot...</td>\n",
       "      <td>Querl Dox</td>\n",
       "      <td>https://comicvine.gamespot.com/brainiac-5/4005...</td>\n",
       "    </tr>\n",
       "    <tr>\n",
       "      <th>3</th>\n",
       "      <td>Lyle Norg\\nBrainiac 6\\nInvisible Kid</td>\n",
       "      <td>https://comicvine.gamespot.com/api/character/4...</td>\n",
       "      <td>None</td>\n",
       "      <td>387</td>\n",
       "      <td>2008-06-06 11:27:34</td>\n",
       "      <td>2016-07-01 21:59:02</td>\n",
       "      <td>He is a member of the Legion of Super-Heroes, ...</td>\n",
       "      <td>&lt;p data-right-indent=\"0\" data-left-indent=\"0\"&gt;...</td>\n",
       "      <td>{'api_detail_url': 'https://comicvine.gamespot...</td>\n",
       "      <td>1</td>\n",
       "      <td>1256</td>\n",
       "      <td>{'icon_url': 'https://comicvine.gamespot.com/a...</td>\n",
       "      <td>Invisible Kid</td>\n",
       "      <td>{'api_detail_url': 'https://comicvine.gamespot...</td>\n",
       "      <td>{'api_detail_url': 'https://comicvine.gamespot...</td>\n",
       "      <td>Lyle Norg</td>\n",
       "      <td>https://comicvine.gamespot.com/invisible-kid/4...</td>\n",
       "    </tr>\n",
       "    <tr>\n",
       "      <th>4</th>\n",
       "      <td>Tinya Wazzo\\nTinya Wazzo-Nah\\nPhantom Woman\\nP...</td>\n",
       "      <td>https://comicvine.gamespot.com/api/character/4...</td>\n",
       "      <td>None</td>\n",
       "      <td>654</td>\n",
       "      <td>2008-06-06 11:27:38</td>\n",
       "      <td>2018-08-24 06:15:15</td>\n",
       "      <td>Tinya Wazzo is a native of the extra-dimension...</td>\n",
       "      <td>&lt;h2&gt;Current Events&lt;/h2&gt;&lt;p&gt;Phantom Girl current...</td>\n",
       "      <td>{'api_detail_url': 'https://comicvine.gamespot...</td>\n",
       "      <td>2</td>\n",
       "      <td>1257</td>\n",
       "      <td>{'icon_url': 'https://comicvine.gamespot.com/a...</td>\n",
       "      <td>Phantom Girl</td>\n",
       "      <td>{'api_detail_url': 'https://comicvine.gamespot...</td>\n",
       "      <td>{'api_detail_url': 'https://comicvine.gamespot...</td>\n",
       "      <td>Tinya Wazzo</td>\n",
       "      <td>https://comicvine.gamespot.com/phantom-girl/40...</td>\n",
       "    </tr>\n",
       "  </tbody>\n",
       "</table>\n",
       "</div>"
      ],
      "text/plain": [
       "                                             aliases  \\\n",
       "0  Garth Ranzz\\nLightning Boy\\nProty\\nLive Wire\\n...   \n",
       "1  Nura Nal\\nDreamy\\nDreamer\\nMiss Terious\\nNura ...   \n",
       "2  Querl Dox\\nBrainiac 5.1\\nBrainy\\nBrainiac \\nB-...   \n",
       "3               Lyle Norg\\nBrainiac 6\\nInvisible Kid   \n",
       "4  Tinya Wazzo\\nTinya Wazzo-Nah\\nPhantom Woman\\nP...   \n",
       "\n",
       "                                      api_detail_url birth  \\\n",
       "0  https://comicvine.gamespot.com/api/character/4...  None   \n",
       "1  https://comicvine.gamespot.com/api/character/4...  None   \n",
       "2  https://comicvine.gamespot.com/api/character/4...  None   \n",
       "3  https://comicvine.gamespot.com/api/character/4...  None   \n",
       "4  https://comicvine.gamespot.com/api/character/4...  None   \n",
       "\n",
       "   count_of_issue_appearances           date_added    date_last_updated  \\\n",
       "0                         903  2008-06-06 11:27:37  2017-08-29 21:57:24   \n",
       "1                         385  2008-06-06 11:27:38  2018-04-30 22:31:45   \n",
       "2                         977  2008-06-06 11:27:37  2018-01-17 00:18:08   \n",
       "3                         387  2008-06-06 11:27:34  2016-07-01 21:59:02   \n",
       "4                         654  2008-06-06 11:27:38  2018-08-24 06:15:15   \n",
       "\n",
       "                                                deck  \\\n",
       "0  Garth Ranzz is one of the three original membe...   \n",
       "1  Nura Nal is from the planet Naltor, where all ...   \n",
       "2  Brainiac 5 is a long-standing member of the Le...   \n",
       "3  He is a member of the Legion of Super-Heroes, ...   \n",
       "4  Tinya Wazzo is a native of the extra-dimension...   \n",
       "\n",
       "                                         description  \\\n",
       "0  <h2>Origin</h2><figure data-align=\"right\" data...   \n",
       "1  <h2>Origin</h2><figure data-align=\"right\" data...   \n",
       "2  <h2>Current Events</h2><p>Brainiac 5 is presen...   \n",
       "3  <p data-right-indent=\"0\" data-left-indent=\"0\">...   \n",
       "4  <h2>Current Events</h2><p>Phantom Girl current...   \n",
       "\n",
       "                             first_appeared_in_issue  gender    id  \\\n",
       "0  {'api_detail_url': 'https://comicvine.gamespot...       1  1253   \n",
       "1  {'api_detail_url': 'https://comicvine.gamespot...       2  1254   \n",
       "2  {'api_detail_url': 'https://comicvine.gamespot...       1  1255   \n",
       "3  {'api_detail_url': 'https://comicvine.gamespot...       1  1256   \n",
       "4  {'api_detail_url': 'https://comicvine.gamespot...       2  1257   \n",
       "\n",
       "                                               image           name  \\\n",
       "0  {'icon_url': 'https://comicvine.gamespot.com/a...  Lightning Lad   \n",
       "1  {'icon_url': 'https://comicvine.gamespot.com/a...     Dream Girl   \n",
       "2  {'icon_url': 'https://comicvine.gamespot.com/a...     Brainiac 5   \n",
       "3  {'icon_url': 'https://comicvine.gamespot.com/a...  Invisible Kid   \n",
       "4  {'icon_url': 'https://comicvine.gamespot.com/a...   Phantom Girl   \n",
       "\n",
       "                                              origin  \\\n",
       "0  {'api_detail_url': 'https://comicvine.gamespot...   \n",
       "1  {'api_detail_url': 'https://comicvine.gamespot...   \n",
       "2  {'api_detail_url': 'https://comicvine.gamespot...   \n",
       "3  {'api_detail_url': 'https://comicvine.gamespot...   \n",
       "4  {'api_detail_url': 'https://comicvine.gamespot...   \n",
       "\n",
       "                                           publisher    real_name  \\\n",
       "0  {'api_detail_url': 'https://comicvine.gamespot...  Garth Ranzz   \n",
       "1  {'api_detail_url': 'https://comicvine.gamespot...     Nura Nal   \n",
       "2  {'api_detail_url': 'https://comicvine.gamespot...    Querl Dox   \n",
       "3  {'api_detail_url': 'https://comicvine.gamespot...    Lyle Norg   \n",
       "4  {'api_detail_url': 'https://comicvine.gamespot...  Tinya Wazzo   \n",
       "\n",
       "                                     site_detail_url  \n",
       "0  https://comicvine.gamespot.com/lightning-lad/4...  \n",
       "1  https://comicvine.gamespot.com/dream-girl/4005...  \n",
       "2  https://comicvine.gamespot.com/brainiac-5/4005...  \n",
       "3  https://comicvine.gamespot.com/invisible-kid/4...  \n",
       "4  https://comicvine.gamespot.com/phantom-girl/40...  "
      ]
     },
     "execution_count": 5,
     "metadata": {},
     "output_type": "execute_result"
    }
   ],
   "source": [
    "df_characters.head()"
   ]
  },
  {
   "cell_type": "code",
   "execution_count": 6,
   "metadata": {},
   "outputs": [
    {
     "data": {
      "text/plain": [
       "{'api_detail_url': 'https://comicvine.gamespot.com/api/origin/4030-3/',\n",
       " 'id': 3,\n",
       " 'name': 'Alien'}"
      ]
     },
     "execution_count": 6,
     "metadata": {},
     "output_type": "execute_result"
    }
   ],
   "source": [
    "df_characters.origin[0]"
   ]
  },
  {
   "cell_type": "code",
   "execution_count": 7,
   "metadata": {},
   "outputs": [
    {
     "data": {
      "text/plain": [
       "{'icon_url': 'https://comicvine.gamespot.com/api/image/square_avatar/6031055-ll4.jpg',\n",
       " 'medium_url': 'https://comicvine.gamespot.com/api/image/scale_medium/6031055-ll4.jpg',\n",
       " 'screen_url': 'https://comicvine.gamespot.com/api/image/screen_medium/6031055-ll4.jpg',\n",
       " 'screen_large_url': 'https://comicvine.gamespot.com/api/image/screen_kubrick/6031055-ll4.jpg',\n",
       " 'small_url': 'https://comicvine.gamespot.com/api/image/scale_small/6031055-ll4.jpg',\n",
       " 'super_url': 'https://comicvine.gamespot.com/api/image/scale_large/6031055-ll4.jpg',\n",
       " 'thumb_url': 'https://comicvine.gamespot.com/api/image/scale_avatar/6031055-ll4.jpg',\n",
       " 'tiny_url': 'https://comicvine.gamespot.com/api/image/square_mini/6031055-ll4.jpg',\n",
       " 'original_url': 'https://comicvine.gamespot.com/api/image/original/6031055-ll4.jpg',\n",
       " 'image_tags': 'All Images,Images From Editing,New Earth'}"
      ]
     },
     "execution_count": 7,
     "metadata": {},
     "output_type": "execute_result"
    }
   ],
   "source": [
    "df_characters.image[0]"
   ]
  },
  {
   "cell_type": "code",
   "execution_count": 8,
   "metadata": {},
   "outputs": [
    {
     "data": {
      "text/plain": [
       "{'api_detail_url': 'https://comicvine.gamespot.com/api/publisher/4010-10/',\n",
       " 'id': 10,\n",
       " 'name': 'DC Comics'}"
      ]
     },
     "execution_count": 8,
     "metadata": {},
     "output_type": "execute_result"
    }
   ],
   "source": [
    "df_characters.publisher[0]"
   ]
  },
  {
   "cell_type": "code",
   "execution_count": 9,
   "metadata": {},
   "outputs": [
    {
     "data": {
      "text/plain": [
       "{'api_detail_url': 'https://comicvine.gamespot.com/api/first_appeared_in_issue/4000-114594/',\n",
       " 'id': 114594,\n",
       " 'name': 'The Legion of Super-Heroes',\n",
       " 'issue_number': '247'}"
      ]
     },
     "execution_count": 9,
     "metadata": {},
     "output_type": "execute_result"
    }
   ],
   "source": [
    "df_characters.first_appeared_in_issue[0]"
   ]
  },
  {
   "cell_type": "code",
   "execution_count": 10,
   "metadata": {
    "scrolled": true
   },
   "outputs": [],
   "source": [
    "if not os.path.exists(\"reports/Characters.html\"):\n",
    "    profile = pandas_profiling.ProfileReport(df_characters)\n",
    "    profile.to_file(outputfile=\"reports/Characters.html\")"
   ]
  },
  {
   "cell_type": "markdown",
   "metadata": {},
   "source": [
    "## Teams"
   ]
  },
  {
   "cell_type": "code",
   "execution_count": 11,
   "metadata": {},
   "outputs": [],
   "source": [
    "df_teams = pd.read_json(\"../ComicVine/teams.json\")"
   ]
  },
  {
   "cell_type": "code",
   "execution_count": 12,
   "metadata": {},
   "outputs": [
    {
     "data": {
      "text/plain": [
       "(8952, 14)"
      ]
     },
     "execution_count": 12,
     "metadata": {},
     "output_type": "execute_result"
    }
   ],
   "source": [
    "df_teams.shape"
   ]
  },
  {
   "cell_type": "code",
   "execution_count": 13,
   "metadata": {},
   "outputs": [
    {
     "data": {
      "text/plain": [
       "Index(['aliases', 'api_detail_url', 'count_of_isssue_appearances',\n",
       "       'count_of_team_members', 'date_added', 'date_last_updated', 'deck',\n",
       "       'description', 'first_appeared_in_issue', 'id', 'image', 'name',\n",
       "       'publisher', 'site_detail_url'],\n",
       "      dtype='object')"
      ]
     },
     "execution_count": 13,
     "metadata": {},
     "output_type": "execute_result"
    }
   ],
   "source": [
    "df_teams.columns"
   ]
  },
  {
   "cell_type": "code",
   "execution_count": 14,
   "metadata": {},
   "outputs": [
    {
     "data": {
      "text/html": [
       "<div>\n",
       "<style scoped>\n",
       "    .dataframe tbody tr th:only-of-type {\n",
       "        vertical-align: middle;\n",
       "    }\n",
       "\n",
       "    .dataframe tbody tr th {\n",
       "        vertical-align: top;\n",
       "    }\n",
       "\n",
       "    .dataframe thead th {\n",
       "        text-align: right;\n",
       "    }\n",
       "</style>\n",
       "<table border=\"1\" class=\"dataframe\">\n",
       "  <thead>\n",
       "    <tr style=\"text-align: right;\">\n",
       "      <th></th>\n",
       "      <th>aliases</th>\n",
       "      <th>api_detail_url</th>\n",
       "      <th>count_of_isssue_appearances</th>\n",
       "      <th>count_of_team_members</th>\n",
       "      <th>date_added</th>\n",
       "      <th>date_last_updated</th>\n",
       "      <th>deck</th>\n",
       "      <th>description</th>\n",
       "      <th>first_appeared_in_issue</th>\n",
       "      <th>id</th>\n",
       "      <th>image</th>\n",
       "      <th>name</th>\n",
       "      <th>publisher</th>\n",
       "      <th>site_detail_url</th>\n",
       "    </tr>\n",
       "  </thead>\n",
       "  <tbody>\n",
       "    <tr>\n",
       "      <th>0</th>\n",
       "      <td>Red Hand</td>\n",
       "      <td>https://comicvine.gamespot.com/api/team/4060-1...</td>\n",
       "      <td>0</td>\n",
       "      <td>81</td>\n",
       "      <td>2008-06-06 11:27:48</td>\n",
       "      <td>2017-05-01 14:50:41</td>\n",
       "      <td>An ancient mystical order of assassins founded...</td>\n",
       "      <td>&lt;h2&gt;Origin&lt;/h2&gt;&lt;p&gt;The nascent Hand first forme...</td>\n",
       "      <td>{'api_detail_url': 'https://comicvine.gamespot...</td>\n",
       "      <td>1800</td>\n",
       "      <td>{'icon_url': 'https://comicvine.gamespot.com/a...</td>\n",
       "      <td>The Hand</td>\n",
       "      <td>{'api_detail_url': 'https://comicvine.gamespot...</td>\n",
       "      <td>https://comicvine.gamespot.com/the-hand/4060-1...</td>\n",
       "    </tr>\n",
       "    <tr>\n",
       "      <th>1</th>\n",
       "      <td>None</td>\n",
       "      <td>https://comicvine.gamespot.com/api/team/4060-2...</td>\n",
       "      <td>0</td>\n",
       "      <td>10</td>\n",
       "      <td>2008-06-06 11:27:45</td>\n",
       "      <td>2013-08-10 05:07:14</td>\n",
       "      <td>The Thunderiders are a team of world class mot...</td>\n",
       "      <td>&lt;p&gt;The Thunderiders are mutants that travel an...</td>\n",
       "      <td>{'api_detail_url': 'https://comicvine.gamespot...</td>\n",
       "      <td>2171</td>\n",
       "      <td>{'icon_url': 'https://comicvine.gamespot.com/a...</td>\n",
       "      <td>Thunderiders</td>\n",
       "      <td>{'api_detail_url': 'https://comicvine.gamespot...</td>\n",
       "      <td>https://comicvine.gamespot.com/thunderiders/40...</td>\n",
       "    </tr>\n",
       "    <tr>\n",
       "      <th>2</th>\n",
       "      <td>None</td>\n",
       "      <td>https://comicvine.gamespot.com/api/team/4060-2...</td>\n",
       "      <td>0</td>\n",
       "      <td>9</td>\n",
       "      <td>2008-06-06 11:27:47</td>\n",
       "      <td>2016-08-16 01:45:27</td>\n",
       "      <td>An animal themed team of villains.</td>\n",
       "      <td>&lt;h2&gt;Brief History&lt;/h2&gt;&lt;p&gt;The original lineup o...</td>\n",
       "      <td>{'api_detail_url': 'https://comicvine.gamespot...</td>\n",
       "      <td>2508</td>\n",
       "      <td>{'icon_url': 'https://comicvine.gamespot.com/a...</td>\n",
       "      <td>Ani-Men</td>\n",
       "      <td>{'api_detail_url': 'https://comicvine.gamespot...</td>\n",
       "      <td>https://comicvine.gamespot.com/ani-men/4060-2508/</td>\n",
       "    </tr>\n",
       "    <tr>\n",
       "      <th>3</th>\n",
       "      <td>Astonishing X-Men\\r\\nChildren of the Atom\\r\\nU...</td>\n",
       "      <td>https://comicvine.gamespot.com/api/team/4060-3...</td>\n",
       "      <td>0</td>\n",
       "      <td>305</td>\n",
       "      <td>2008-06-06 11:27:48</td>\n",
       "      <td>2017-09-28 12:09:03</td>\n",
       "      <td>The X-Men are a superhero team of mutants foun...</td>\n",
       "      <td>&lt;h2&gt;Origin&lt;/h2&gt;&lt;h3&gt;Original Team Roster&lt;/h3&gt;&lt;p...</td>\n",
       "      <td>{'api_detail_url': 'https://comicvine.gamespot...</td>\n",
       "      <td>3173</td>\n",
       "      <td>{'icon_url': 'https://comicvine.gamespot.com/a...</td>\n",
       "      <td>X-Men</td>\n",
       "      <td>{'api_detail_url': 'https://comicvine.gamespot...</td>\n",
       "      <td>https://comicvine.gamespot.com/x-men/4060-3173/</td>\n",
       "    </tr>\n",
       "    <tr>\n",
       "      <th>4</th>\n",
       "      <td>Lowest Caste\\r\\nOutcasts</td>\n",
       "      <td>https://comicvine.gamespot.com/api/team/4060-3...</td>\n",
       "      <td>0</td>\n",
       "      <td>84</td>\n",
       "      <td>2008-06-06 11:27:48</td>\n",
       "      <td>2016-02-23 21:17:09</td>\n",
       "      <td>Outcasts from society, the Morlocks were a com...</td>\n",
       "      <td>&lt;h2&gt;Origin&lt;/h2&gt;&lt;figure data-align=\"right\" data...</td>\n",
       "      <td>{'api_detail_url': 'https://comicvine.gamespot...</td>\n",
       "      <td>3191</td>\n",
       "      <td>{'icon_url': 'https://comicvine.gamespot.com/a...</td>\n",
       "      <td>Morlocks</td>\n",
       "      <td>{'api_detail_url': 'https://comicvine.gamespot...</td>\n",
       "      <td>https://comicvine.gamespot.com/morlocks/4060-3...</td>\n",
       "    </tr>\n",
       "  </tbody>\n",
       "</table>\n",
       "</div>"
      ],
      "text/plain": [
       "                                             aliases  \\\n",
       "0                                           Red Hand   \n",
       "1                                               None   \n",
       "2                                               None   \n",
       "3  Astonishing X-Men\\r\\nChildren of the Atom\\r\\nU...   \n",
       "4                           Lowest Caste\\r\\nOutcasts   \n",
       "\n",
       "                                      api_detail_url  \\\n",
       "0  https://comicvine.gamespot.com/api/team/4060-1...   \n",
       "1  https://comicvine.gamespot.com/api/team/4060-2...   \n",
       "2  https://comicvine.gamespot.com/api/team/4060-2...   \n",
       "3  https://comicvine.gamespot.com/api/team/4060-3...   \n",
       "4  https://comicvine.gamespot.com/api/team/4060-3...   \n",
       "\n",
       "   count_of_isssue_appearances  count_of_team_members           date_added  \\\n",
       "0                            0                     81  2008-06-06 11:27:48   \n",
       "1                            0                     10  2008-06-06 11:27:45   \n",
       "2                            0                      9  2008-06-06 11:27:47   \n",
       "3                            0                    305  2008-06-06 11:27:48   \n",
       "4                            0                     84  2008-06-06 11:27:48   \n",
       "\n",
       "     date_last_updated                                               deck  \\\n",
       "0  2017-05-01 14:50:41  An ancient mystical order of assassins founded...   \n",
       "1  2013-08-10 05:07:14  The Thunderiders are a team of world class mot...   \n",
       "2  2016-08-16 01:45:27                 An animal themed team of villains.   \n",
       "3  2017-09-28 12:09:03  The X-Men are a superhero team of mutants foun...   \n",
       "4  2016-02-23 21:17:09  Outcasts from society, the Morlocks were a com...   \n",
       "\n",
       "                                         description  \\\n",
       "0  <h2>Origin</h2><p>The nascent Hand first forme...   \n",
       "1  <p>The Thunderiders are mutants that travel an...   \n",
       "2  <h2>Brief History</h2><p>The original lineup o...   \n",
       "3  <h2>Origin</h2><h3>Original Team Roster</h3><p...   \n",
       "4  <h2>Origin</h2><figure data-align=\"right\" data...   \n",
       "\n",
       "                             first_appeared_in_issue    id  \\\n",
       "0  {'api_detail_url': 'https://comicvine.gamespot...  1800   \n",
       "1  {'api_detail_url': 'https://comicvine.gamespot...  2171   \n",
       "2  {'api_detail_url': 'https://comicvine.gamespot...  2508   \n",
       "3  {'api_detail_url': 'https://comicvine.gamespot...  3173   \n",
       "4  {'api_detail_url': 'https://comicvine.gamespot...  3191   \n",
       "\n",
       "                                               image          name  \\\n",
       "0  {'icon_url': 'https://comicvine.gamespot.com/a...      The Hand   \n",
       "1  {'icon_url': 'https://comicvine.gamespot.com/a...  Thunderiders   \n",
       "2  {'icon_url': 'https://comicvine.gamespot.com/a...       Ani-Men   \n",
       "3  {'icon_url': 'https://comicvine.gamespot.com/a...         X-Men   \n",
       "4  {'icon_url': 'https://comicvine.gamespot.com/a...      Morlocks   \n",
       "\n",
       "                                           publisher  \\\n",
       "0  {'api_detail_url': 'https://comicvine.gamespot...   \n",
       "1  {'api_detail_url': 'https://comicvine.gamespot...   \n",
       "2  {'api_detail_url': 'https://comicvine.gamespot...   \n",
       "3  {'api_detail_url': 'https://comicvine.gamespot...   \n",
       "4  {'api_detail_url': 'https://comicvine.gamespot...   \n",
       "\n",
       "                                     site_detail_url  \n",
       "0  https://comicvine.gamespot.com/the-hand/4060-1...  \n",
       "1  https://comicvine.gamespot.com/thunderiders/40...  \n",
       "2  https://comicvine.gamespot.com/ani-men/4060-2508/  \n",
       "3    https://comicvine.gamespot.com/x-men/4060-3173/  \n",
       "4  https://comicvine.gamespot.com/morlocks/4060-3...  "
      ]
     },
     "execution_count": 14,
     "metadata": {},
     "output_type": "execute_result"
    }
   ],
   "source": [
    "df_teams.head()"
   ]
  },
  {
   "cell_type": "code",
   "execution_count": 15,
   "metadata": {},
   "outputs": [
    {
     "data": {
      "text/plain": [
       "{'icon_url': 'https://comicvine.gamespot.com/api/image/square_avatar/2838040-792311_10151251533236295_453924742_o.jpg',\n",
       " 'medium_url': 'https://comicvine.gamespot.com/api/image/scale_medium/2838040-792311_10151251533236295_453924742_o.jpg',\n",
       " 'screen_url': 'https://comicvine.gamespot.com/api/image/screen_medium/2838040-792311_10151251533236295_453924742_o.jpg',\n",
       " 'screen_large_url': 'https://comicvine.gamespot.com/api/image/screen_kubrick/2838040-792311_10151251533236295_453924742_o.jpg',\n",
       " 'small_url': 'https://comicvine.gamespot.com/api/image/scale_small/2838040-792311_10151251533236295_453924742_o.jpg',\n",
       " 'super_url': 'https://comicvine.gamespot.com/api/image/scale_large/2838040-792311_10151251533236295_453924742_o.jpg',\n",
       " 'thumb_url': 'https://comicvine.gamespot.com/api/image/scale_avatar/2838040-792311_10151251533236295_453924742_o.jpg',\n",
       " 'tiny_url': 'https://comicvine.gamespot.com/api/image/square_mini/2838040-792311_10151251533236295_453924742_o.jpg',\n",
       " 'original_url': 'https://comicvine.gamespot.com/api/image/original/2838040-792311_10151251533236295_453924742_o.jpg',\n",
       " 'image_tags': 'All Images,Artwork,The Hand'}"
      ]
     },
     "execution_count": 15,
     "metadata": {},
     "output_type": "execute_result"
    }
   ],
   "source": [
    "df_teams.image[0]"
   ]
  },
  {
   "cell_type": "code",
   "execution_count": 16,
   "metadata": {},
   "outputs": [
    {
     "data": {
      "text/plain": [
       "{'api_detail_url': 'https://comicvine.gamespot.com/api/publisher/4010-31/',\n",
       " 'id': 31,\n",
       " 'name': 'Marvel'}"
      ]
     },
     "execution_count": 16,
     "metadata": {},
     "output_type": "execute_result"
    }
   ],
   "source": [
    "df_teams.publisher[0]"
   ]
  },
  {
   "cell_type": "code",
   "execution_count": 17,
   "metadata": {},
   "outputs": [
    {
     "data": {
      "text/plain": [
       "{'api_detail_url': 'https://comicvine.gamespot.com/api/first_appeared_in_issue/4000-20965/',\n",
       " 'id': 20965,\n",
       " 'name': 'Elektra',\n",
       " 'issue_number': '168'}"
      ]
     },
     "execution_count": 17,
     "metadata": {},
     "output_type": "execute_result"
    }
   ],
   "source": [
    "df_teams.first_appeared_in_issue[0]"
   ]
  },
  {
   "cell_type": "code",
   "execution_count": 18,
   "metadata": {},
   "outputs": [],
   "source": [
    "if not os.path.exists(\"reports/Teams.html\"):\n",
    "    profile = pandas_profiling.ProfileReport(df_teams)\n",
    "    profile.to_file(outputfile=\"reports/Teams.html\")"
   ]
  },
  {
   "cell_type": "markdown",
   "metadata": {},
   "source": [
    "## Power"
   ]
  },
  {
   "cell_type": "code",
   "execution_count": 19,
   "metadata": {},
   "outputs": [],
   "source": [
    "df_powers = pd.read_json(\"../ComicVine/powers.json\")"
   ]
  },
  {
   "cell_type": "code",
   "execution_count": 20,
   "metadata": {},
   "outputs": [
    {
     "data": {
      "text/plain": [
       "(128, 8)"
      ]
     },
     "execution_count": 20,
     "metadata": {},
     "output_type": "execute_result"
    }
   ],
   "source": [
    "df_powers.shape"
   ]
  },
  {
   "cell_type": "code",
   "execution_count": 21,
   "metadata": {},
   "outputs": [
    {
     "data": {
      "text/plain": [
       "Index(['aliases', 'api_detail_url', 'date_added', 'date_last_updated',\n",
       "       'description', 'id', 'name', 'site_detail_url'],\n",
       "      dtype='object')"
      ]
     },
     "execution_count": 21,
     "metadata": {},
     "output_type": "execute_result"
    }
   ],
   "source": [
    "df_powers.columns"
   ]
  },
  {
   "cell_type": "code",
   "execution_count": 22,
   "metadata": {},
   "outputs": [
    {
     "data": {
      "text/html": [
       "<div>\n",
       "<style scoped>\n",
       "    .dataframe tbody tr th:only-of-type {\n",
       "        vertical-align: middle;\n",
       "    }\n",
       "\n",
       "    .dataframe tbody tr th {\n",
       "        vertical-align: top;\n",
       "    }\n",
       "\n",
       "    .dataframe thead th {\n",
       "        text-align: right;\n",
       "    }\n",
       "</style>\n",
       "<table border=\"1\" class=\"dataframe\">\n",
       "  <thead>\n",
       "    <tr style=\"text-align: right;\">\n",
       "      <th></th>\n",
       "      <th>aliases</th>\n",
       "      <th>api_detail_url</th>\n",
       "      <th>date_added</th>\n",
       "      <th>date_last_updated</th>\n",
       "      <th>description</th>\n",
       "      <th>id</th>\n",
       "      <th>name</th>\n",
       "      <th>site_detail_url</th>\n",
       "    </tr>\n",
       "  </thead>\n",
       "  <tbody>\n",
       "    <tr>\n",
       "      <th>0</th>\n",
       "      <td>NaN</td>\n",
       "      <td>https://comicvine.gamespot.com/api/power/4035-1/</td>\n",
       "      <td>2008-06-06 11:28:15</td>\n",
       "      <td>2008-06-06 11:28:15</td>\n",
       "      <td>&lt;p&gt;The ability to fly is possibly the most awe...</td>\n",
       "      <td>1</td>\n",
       "      <td>Flight</td>\n",
       "      <td>https://comicvine.gamespot.com/characters/?wik...</td>\n",
       "    </tr>\n",
       "    <tr>\n",
       "      <th>1</th>\n",
       "      <td>NaN</td>\n",
       "      <td>https://comicvine.gamespot.com/api/power/4035-2/</td>\n",
       "      <td>2008-06-06 11:28:15</td>\n",
       "      <td>2008-06-06 11:28:15</td>\n",
       "      <td>&lt;p&gt;Super Stength is the iconic super power. Fo...</td>\n",
       "      <td>2</td>\n",
       "      <td>Super Strength</td>\n",
       "      <td>https://comicvine.gamespot.com/characters/?wik...</td>\n",
       "    </tr>\n",
       "    <tr>\n",
       "      <th>2</th>\n",
       "      <td>NaN</td>\n",
       "      <td>https://comicvine.gamespot.com/api/power/4035-3/</td>\n",
       "      <td>2008-06-06 11:28:15</td>\n",
       "      <td>2008-06-06 11:28:15</td>\n",
       "      <td>None</td>\n",
       "      <td>3</td>\n",
       "      <td>Super Speed</td>\n",
       "      <td>https://comicvine.gamespot.com/characters/?wik...</td>\n",
       "    </tr>\n",
       "    <tr>\n",
       "      <th>3</th>\n",
       "      <td>NaN</td>\n",
       "      <td>https://comicvine.gamespot.com/api/power/4035-4/</td>\n",
       "      <td>2008-06-06 11:28:15</td>\n",
       "      <td>2008-06-06 11:28:15</td>\n",
       "      <td>&lt;p&gt;Agility is the ability to move nimbly or qu...</td>\n",
       "      <td>4</td>\n",
       "      <td>Agility</td>\n",
       "      <td>https://comicvine.gamespot.com/characters/?wik...</td>\n",
       "    </tr>\n",
       "    <tr>\n",
       "      <th>4</th>\n",
       "      <td>NaN</td>\n",
       "      <td>https://comicvine.gamespot.com/api/power/4035-5/</td>\n",
       "      <td>2008-06-06 11:28:15</td>\n",
       "      <td>2008-06-06 11:28:15</td>\n",
       "      <td>None</td>\n",
       "      <td>5</td>\n",
       "      <td>Stamina</td>\n",
       "      <td>https://comicvine.gamespot.com/characters/?wik...</td>\n",
       "    </tr>\n",
       "  </tbody>\n",
       "</table>\n",
       "</div>"
      ],
      "text/plain": [
       "   aliases                                    api_detail_url  \\\n",
       "0      NaN  https://comicvine.gamespot.com/api/power/4035-1/   \n",
       "1      NaN  https://comicvine.gamespot.com/api/power/4035-2/   \n",
       "2      NaN  https://comicvine.gamespot.com/api/power/4035-3/   \n",
       "3      NaN  https://comicvine.gamespot.com/api/power/4035-4/   \n",
       "4      NaN  https://comicvine.gamespot.com/api/power/4035-5/   \n",
       "\n",
       "            date_added    date_last_updated  \\\n",
       "0  2008-06-06 11:28:15  2008-06-06 11:28:15   \n",
       "1  2008-06-06 11:28:15  2008-06-06 11:28:15   \n",
       "2  2008-06-06 11:28:15  2008-06-06 11:28:15   \n",
       "3  2008-06-06 11:28:15  2008-06-06 11:28:15   \n",
       "4  2008-06-06 11:28:15  2008-06-06 11:28:15   \n",
       "\n",
       "                                         description  id            name  \\\n",
       "0  <p>The ability to fly is possibly the most awe...   1          Flight   \n",
       "1  <p>Super Stength is the iconic super power. Fo...   2  Super Strength   \n",
       "2                                               None   3     Super Speed   \n",
       "3  <p>Agility is the ability to move nimbly or qu...   4         Agility   \n",
       "4                                               None   5         Stamina   \n",
       "\n",
       "                                     site_detail_url  \n",
       "0  https://comicvine.gamespot.com/characters/?wik...  \n",
       "1  https://comicvine.gamespot.com/characters/?wik...  \n",
       "2  https://comicvine.gamespot.com/characters/?wik...  \n",
       "3  https://comicvine.gamespot.com/characters/?wik...  \n",
       "4  https://comicvine.gamespot.com/characters/?wik...  "
      ]
     },
     "execution_count": 22,
     "metadata": {},
     "output_type": "execute_result"
    }
   ],
   "source": [
    "df_powers.head()"
   ]
  },
  {
   "cell_type": "code",
   "execution_count": 23,
   "metadata": {},
   "outputs": [],
   "source": [
    "if not os.path.exists(\"reports/Powers.html\"):\n",
    "    profile = pandas_profiling.ProfileReport(df_powers)\n",
    "    profile.to_file(outputfile=\"reports/Powers.html\")"
   ]
  },
  {
   "cell_type": "markdown",
   "metadata": {},
   "source": [
    "## Location"
   ]
  },
  {
   "cell_type": "code",
   "execution_count": 24,
   "metadata": {},
   "outputs": [],
   "source": [
    "df_locations = pd.read_json(\"../ComicVine/locations.json\")"
   ]
  },
  {
   "cell_type": "code",
   "execution_count": 25,
   "metadata": {},
   "outputs": [
    {
     "data": {
      "text/plain": [
       "(8527, 13)"
      ]
     },
     "execution_count": 25,
     "metadata": {},
     "output_type": "execute_result"
    }
   ],
   "source": [
    "df_locations.shape"
   ]
  },
  {
   "cell_type": "code",
   "execution_count": 26,
   "metadata": {},
   "outputs": [
    {
     "data": {
      "text/plain": [
       "Index(['aliases', 'api_detail_url', 'count_of_issue_appearances', 'date_added',\n",
       "       'date_last_updated', 'deck', 'description', 'first_appeared_in_issue',\n",
       "       'id', 'image', 'name', 'site_detail_url', 'start_year'],\n",
       "      dtype='object')"
      ]
     },
     "execution_count": 26,
     "metadata": {},
     "output_type": "execute_result"
    }
   ],
   "source": [
    "df_locations.columns"
   ]
  },
  {
   "cell_type": "code",
   "execution_count": 27,
   "metadata": {},
   "outputs": [
    {
     "data": {
      "text/html": [
       "<div>\n",
       "<style scoped>\n",
       "    .dataframe tbody tr th:only-of-type {\n",
       "        vertical-align: middle;\n",
       "    }\n",
       "\n",
       "    .dataframe tbody tr th {\n",
       "        vertical-align: top;\n",
       "    }\n",
       "\n",
       "    .dataframe thead th {\n",
       "        text-align: right;\n",
       "    }\n",
       "</style>\n",
       "<table border=\"1\" class=\"dataframe\">\n",
       "  <thead>\n",
       "    <tr style=\"text-align: right;\">\n",
       "      <th></th>\n",
       "      <th>aliases</th>\n",
       "      <th>api_detail_url</th>\n",
       "      <th>count_of_issue_appearances</th>\n",
       "      <th>date_added</th>\n",
       "      <th>date_last_updated</th>\n",
       "      <th>deck</th>\n",
       "      <th>description</th>\n",
       "      <th>first_appeared_in_issue</th>\n",
       "      <th>id</th>\n",
       "      <th>image</th>\n",
       "      <th>name</th>\n",
       "      <th>site_detail_url</th>\n",
       "      <th>start_year</th>\n",
       "    </tr>\n",
       "  </thead>\n",
       "  <tbody>\n",
       "    <tr>\n",
       "      <th>0</th>\n",
       "      <td>Wildes Land</td>\n",
       "      <td>https://comicvine.gamespot.com/api/location/40...</td>\n",
       "      <td>648.0</td>\n",
       "      <td>2008-06-06 11:27:50</td>\n",
       "      <td>2014-11-03 09:19:55</td>\n",
       "      <td>A tropical, prehistoric land hidden in Antarct...</td>\n",
       "      <td>&lt;h2&gt;Overview&lt;/h2&gt;&lt;p&gt;In &lt;a href=\"/antarctica/40...</td>\n",
       "      <td>{'api_detail_url': 'https://comicvine.gamespot...</td>\n",
       "      <td>21766</td>\n",
       "      <td>{'icon_url': 'https://comicvine.gamespot.com/a...</td>\n",
       "      <td>Savage Land</td>\n",
       "      <td>https://comicvine.gamespot.com/savage-land/402...</td>\n",
       "      <td>1941.0</td>\n",
       "    </tr>\n",
       "    <tr>\n",
       "      <th>1</th>\n",
       "      <td>None</td>\n",
       "      <td>https://comicvine.gamespot.com/api/location/40...</td>\n",
       "      <td>197.0</td>\n",
       "      <td>2008-06-06 11:27:50</td>\n",
       "      <td>2018-03-28 21:24:29</td>\n",
       "      <td>The Shi'ar Empire is a vast group of species l...</td>\n",
       "      <td>&lt;strong&gt;Trial of Galactus&lt;br /&gt;&lt;br /&gt;&lt;/strong&gt;...</td>\n",
       "      <td>{'api_detail_url': 'https://comicvine.gamespot...</td>\n",
       "      <td>23199</td>\n",
       "      <td>{'icon_url': 'https://comicvine.gamespot.com/a...</td>\n",
       "      <td>Shi'ar Empire</td>\n",
       "      <td>https://comicvine.gamespot.com/shiar-empire/40...</td>\n",
       "      <td>1976.0</td>\n",
       "    </tr>\n",
       "    <tr>\n",
       "      <th>2</th>\n",
       "      <td>None</td>\n",
       "      <td>https://comicvine.gamespot.com/api/location/40...</td>\n",
       "      <td>7574.0</td>\n",
       "      <td>2008-06-06 11:27:49</td>\n",
       "      <td>2018-04-09 14:32:33</td>\n",
       "      <td>Gotham City is under the protection of Batman ...</td>\n",
       "      <td>&lt;h2&gt;History&lt;/h2&gt;&lt;p&gt;Gotham City is one of the o...</td>\n",
       "      <td>{'api_detail_url': 'https://comicvine.gamespot...</td>\n",
       "      <td>23611</td>\n",
       "      <td>{'icon_url': 'https://comicvine.gamespot.com/a...</td>\n",
       "      <td>Gotham City</td>\n",
       "      <td>https://comicvine.gamespot.com/gotham-city/402...</td>\n",
       "      <td>1939.0</td>\n",
       "    </tr>\n",
       "    <tr>\n",
       "      <th>3</th>\n",
       "      <td>None</td>\n",
       "      <td>https://comicvine.gamespot.com/api/location/40...</td>\n",
       "      <td>481.0</td>\n",
       "      <td>2008-06-06 11:27:50</td>\n",
       "      <td>2017-01-16 09:44:25</td>\n",
       "      <td>A fictional planet in the DC Universe and the ...</td>\n",
       "      <td>&lt;h2&gt;Location of Krypton&lt;/h2&gt;&lt;p&gt;&lt;b&gt;Krypton&lt;/b&gt; ...</td>\n",
       "      <td>{'api_detail_url': 'https://comicvine.gamespot...</td>\n",
       "      <td>30670</td>\n",
       "      <td>{'icon_url': 'https://comicvine.gamespot.com/a...</td>\n",
       "      <td>Krypton</td>\n",
       "      <td>https://comicvine.gamespot.com/krypton/4020-30...</td>\n",
       "      <td>1938.0</td>\n",
       "    </tr>\n",
       "    <tr>\n",
       "      <th>4</th>\n",
       "      <td>None</td>\n",
       "      <td>https://comicvine.gamespot.com/api/location/40...</td>\n",
       "      <td>562.0</td>\n",
       "      <td>2008-06-06 11:27:50</td>\n",
       "      <td>2017-08-05 01:13:09</td>\n",
       "      <td>The Scientific and Technological Advanced Rese...</td>\n",
       "      <td>&lt;p&gt;&lt;a href=\"/garrison-slate/4005-50860/\" data-...</td>\n",
       "      <td>{'api_detail_url': 'https://comicvine.gamespot...</td>\n",
       "      <td>30759</td>\n",
       "      <td>{'icon_url': 'https://comicvine.gamespot.com/a...</td>\n",
       "      <td>S.T.A.R. Labs</td>\n",
       "      <td>https://comicvine.gamespot.com/star-labs/4020-...</td>\n",
       "      <td>1971.0</td>\n",
       "    </tr>\n",
       "  </tbody>\n",
       "</table>\n",
       "</div>"
      ],
      "text/plain": [
       "       aliases                                     api_detail_url  \\\n",
       "0  Wildes Land  https://comicvine.gamespot.com/api/location/40...   \n",
       "1         None  https://comicvine.gamespot.com/api/location/40...   \n",
       "2         None  https://comicvine.gamespot.com/api/location/40...   \n",
       "3         None  https://comicvine.gamespot.com/api/location/40...   \n",
       "4         None  https://comicvine.gamespot.com/api/location/40...   \n",
       "\n",
       "   count_of_issue_appearances           date_added    date_last_updated  \\\n",
       "0                       648.0  2008-06-06 11:27:50  2014-11-03 09:19:55   \n",
       "1                       197.0  2008-06-06 11:27:50  2018-03-28 21:24:29   \n",
       "2                      7574.0  2008-06-06 11:27:49  2018-04-09 14:32:33   \n",
       "3                       481.0  2008-06-06 11:27:50  2017-01-16 09:44:25   \n",
       "4                       562.0  2008-06-06 11:27:50  2017-08-05 01:13:09   \n",
       "\n",
       "                                                deck  \\\n",
       "0  A tropical, prehistoric land hidden in Antarct...   \n",
       "1  The Shi'ar Empire is a vast group of species l...   \n",
       "2  Gotham City is under the protection of Batman ...   \n",
       "3  A fictional planet in the DC Universe and the ...   \n",
       "4  The Scientific and Technological Advanced Rese...   \n",
       "\n",
       "                                         description  \\\n",
       "0  <h2>Overview</h2><p>In <a href=\"/antarctica/40...   \n",
       "1  <strong>Trial of Galactus<br /><br /></strong>...   \n",
       "2  <h2>History</h2><p>Gotham City is one of the o...   \n",
       "3  <h2>Location of Krypton</h2><p><b>Krypton</b> ...   \n",
       "4  <p><a href=\"/garrison-slate/4005-50860/\" data-...   \n",
       "\n",
       "                             first_appeared_in_issue     id  \\\n",
       "0  {'api_detail_url': 'https://comicvine.gamespot...  21766   \n",
       "1  {'api_detail_url': 'https://comicvine.gamespot...  23199   \n",
       "2  {'api_detail_url': 'https://comicvine.gamespot...  23611   \n",
       "3  {'api_detail_url': 'https://comicvine.gamespot...  30670   \n",
       "4  {'api_detail_url': 'https://comicvine.gamespot...  30759   \n",
       "\n",
       "                                               image           name  \\\n",
       "0  {'icon_url': 'https://comicvine.gamespot.com/a...    Savage Land   \n",
       "1  {'icon_url': 'https://comicvine.gamespot.com/a...  Shi'ar Empire   \n",
       "2  {'icon_url': 'https://comicvine.gamespot.com/a...    Gotham City   \n",
       "3  {'icon_url': 'https://comicvine.gamespot.com/a...        Krypton   \n",
       "4  {'icon_url': 'https://comicvine.gamespot.com/a...  S.T.A.R. Labs   \n",
       "\n",
       "                                     site_detail_url  start_year  \n",
       "0  https://comicvine.gamespot.com/savage-land/402...      1941.0  \n",
       "1  https://comicvine.gamespot.com/shiar-empire/40...      1976.0  \n",
       "2  https://comicvine.gamespot.com/gotham-city/402...      1939.0  \n",
       "3  https://comicvine.gamespot.com/krypton/4020-30...      1938.0  \n",
       "4  https://comicvine.gamespot.com/star-labs/4020-...      1971.0  "
      ]
     },
     "execution_count": 27,
     "metadata": {},
     "output_type": "execute_result"
    }
   ],
   "source": [
    "df_locations.head()"
   ]
  },
  {
   "cell_type": "code",
   "execution_count": 28,
   "metadata": {},
   "outputs": [],
   "source": [
    "if not os.path.exists(\"reports/Locations.html\"):\n",
    "    profile = pandas_profiling.ProfileReport(df_locations)\n",
    "    profile.to_file(outputfile=\"reports/Locations.html\")"
   ]
  },
  {
   "cell_type": "markdown",
   "metadata": {},
   "source": [
    "## Origin"
   ]
  },
  {
   "cell_type": "code",
   "execution_count": 29,
   "metadata": {},
   "outputs": [],
   "source": [
    "df_origins = pd.read_json(\"../ComicVine/origins.json\")"
   ]
  },
  {
   "cell_type": "code",
   "execution_count": 30,
   "metadata": {},
   "outputs": [
    {
     "data": {
      "text/plain": [
       "(10, 4)"
      ]
     },
     "execution_count": 30,
     "metadata": {},
     "output_type": "execute_result"
    }
   ],
   "source": [
    "df_origins.shape"
   ]
  },
  {
   "cell_type": "code",
   "execution_count": 31,
   "metadata": {},
   "outputs": [
    {
     "data": {
      "text/plain": [
       "Index(['api_detail_url', 'id', 'name', 'site_detail_url'], dtype='object')"
      ]
     },
     "execution_count": 31,
     "metadata": {},
     "output_type": "execute_result"
    }
   ],
   "source": [
    "df_origins.columns"
   ]
  },
  {
   "cell_type": "code",
   "execution_count": 32,
   "metadata": {},
   "outputs": [
    {
     "data": {
      "text/html": [
       "<div>\n",
       "<style scoped>\n",
       "    .dataframe tbody tr th:only-of-type {\n",
       "        vertical-align: middle;\n",
       "    }\n",
       "\n",
       "    .dataframe tbody tr th {\n",
       "        vertical-align: top;\n",
       "    }\n",
       "\n",
       "    .dataframe thead th {\n",
       "        text-align: right;\n",
       "    }\n",
       "</style>\n",
       "<table border=\"1\" class=\"dataframe\">\n",
       "  <thead>\n",
       "    <tr style=\"text-align: right;\">\n",
       "      <th></th>\n",
       "      <th>api_detail_url</th>\n",
       "      <th>id</th>\n",
       "      <th>name</th>\n",
       "      <th>site_detail_url</th>\n",
       "    </tr>\n",
       "  </thead>\n",
       "  <tbody>\n",
       "    <tr>\n",
       "      <th>0</th>\n",
       "      <td>https://comicvine.gamespot.com/api/origin/4030-1/</td>\n",
       "      <td>1</td>\n",
       "      <td>Mutant</td>\n",
       "      <td>https://comicvine.gamespot.com/mutant/4030-1/</td>\n",
       "    </tr>\n",
       "    <tr>\n",
       "      <th>1</th>\n",
       "      <td>https://comicvine.gamespot.com/api/origin/4030-2/</td>\n",
       "      <td>2</td>\n",
       "      <td>Cyborg</td>\n",
       "      <td>https://comicvine.gamespot.com/cyborg/4030-2/</td>\n",
       "    </tr>\n",
       "    <tr>\n",
       "      <th>2</th>\n",
       "      <td>https://comicvine.gamespot.com/api/origin/4030-3/</td>\n",
       "      <td>3</td>\n",
       "      <td>Alien</td>\n",
       "      <td>https://comicvine.gamespot.com/alien/4030-3/</td>\n",
       "    </tr>\n",
       "    <tr>\n",
       "      <th>3</th>\n",
       "      <td>https://comicvine.gamespot.com/api/origin/4030-4/</td>\n",
       "      <td>4</td>\n",
       "      <td>Human</td>\n",
       "      <td>https://comicvine.gamespot.com/human/4030-4/</td>\n",
       "    </tr>\n",
       "    <tr>\n",
       "      <th>4</th>\n",
       "      <td>https://comicvine.gamespot.com/api/origin/4030-5/</td>\n",
       "      <td>5</td>\n",
       "      <td>Robot</td>\n",
       "      <td>https://comicvine.gamespot.com/robot/4030-5/</td>\n",
       "    </tr>\n",
       "    <tr>\n",
       "      <th>5</th>\n",
       "      <td>https://comicvine.gamespot.com/api/origin/4030-6/</td>\n",
       "      <td>6</td>\n",
       "      <td>Radiation</td>\n",
       "      <td>https://comicvine.gamespot.com/radiation/4030-6/</td>\n",
       "    </tr>\n",
       "    <tr>\n",
       "      <th>6</th>\n",
       "      <td>https://comicvine.gamespot.com/api/origin/4030-7/</td>\n",
       "      <td>7</td>\n",
       "      <td>God/Eternal</td>\n",
       "      <td>https://comicvine.gamespot.com/godeternal/4030-7/</td>\n",
       "    </tr>\n",
       "    <tr>\n",
       "      <th>7</th>\n",
       "      <td>https://comicvine.gamespot.com/api/origin/4030-8/</td>\n",
       "      <td>8</td>\n",
       "      <td>Animal</td>\n",
       "      <td>https://comicvine.gamespot.com/animal/4030-8/</td>\n",
       "    </tr>\n",
       "    <tr>\n",
       "      <th>8</th>\n",
       "      <td>https://comicvine.gamespot.com/api/origin/4030-9/</td>\n",
       "      <td>9</td>\n",
       "      <td>Other</td>\n",
       "      <td>https://comicvine.gamespot.com/other/4030-9/</td>\n",
       "    </tr>\n",
       "    <tr>\n",
       "      <th>9</th>\n",
       "      <td>https://comicvine.gamespot.com/api/origin/4030...</td>\n",
       "      <td>10</td>\n",
       "      <td>Infection</td>\n",
       "      <td>https://comicvine.gamespot.com/infection/4030-10/</td>\n",
       "    </tr>\n",
       "  </tbody>\n",
       "</table>\n",
       "</div>"
      ],
      "text/plain": [
       "                                      api_detail_url  id         name  \\\n",
       "0  https://comicvine.gamespot.com/api/origin/4030-1/   1       Mutant   \n",
       "1  https://comicvine.gamespot.com/api/origin/4030-2/   2       Cyborg   \n",
       "2  https://comicvine.gamespot.com/api/origin/4030-3/   3        Alien   \n",
       "3  https://comicvine.gamespot.com/api/origin/4030-4/   4        Human   \n",
       "4  https://comicvine.gamespot.com/api/origin/4030-5/   5        Robot   \n",
       "5  https://comicvine.gamespot.com/api/origin/4030-6/   6    Radiation   \n",
       "6  https://comicvine.gamespot.com/api/origin/4030-7/   7  God/Eternal   \n",
       "7  https://comicvine.gamespot.com/api/origin/4030-8/   8       Animal   \n",
       "8  https://comicvine.gamespot.com/api/origin/4030-9/   9        Other   \n",
       "9  https://comicvine.gamespot.com/api/origin/4030...  10    Infection   \n",
       "\n",
       "                                     site_detail_url  \n",
       "0      https://comicvine.gamespot.com/mutant/4030-1/  \n",
       "1      https://comicvine.gamespot.com/cyborg/4030-2/  \n",
       "2       https://comicvine.gamespot.com/alien/4030-3/  \n",
       "3       https://comicvine.gamespot.com/human/4030-4/  \n",
       "4       https://comicvine.gamespot.com/robot/4030-5/  \n",
       "5   https://comicvine.gamespot.com/radiation/4030-6/  \n",
       "6  https://comicvine.gamespot.com/godeternal/4030-7/  \n",
       "7      https://comicvine.gamespot.com/animal/4030-8/  \n",
       "8       https://comicvine.gamespot.com/other/4030-9/  \n",
       "9  https://comicvine.gamespot.com/infection/4030-10/  "
      ]
     },
     "execution_count": 32,
     "metadata": {},
     "output_type": "execute_result"
    }
   ],
   "source": [
    "df_origins.head(15)"
   ]
  },
  {
   "cell_type": "markdown",
   "metadata": {},
   "source": [
    "## Types"
   ]
  },
  {
   "cell_type": "code",
   "execution_count": 33,
   "metadata": {},
   "outputs": [],
   "source": [
    "df_types = pd.read_json(\"../ComicVine/types.json\")"
   ]
  },
  {
   "cell_type": "code",
   "execution_count": 34,
   "metadata": {},
   "outputs": [
    {
     "data": {
      "text/plain": [
       "(20, 3)"
      ]
     },
     "execution_count": 34,
     "metadata": {},
     "output_type": "execute_result"
    }
   ],
   "source": [
    "df_types.shape"
   ]
  },
  {
   "cell_type": "code",
   "execution_count": 35,
   "metadata": {},
   "outputs": [
    {
     "data": {
      "text/plain": [
       "Index(['detail_resource_name', 'id', 'list_resource_name'], dtype='object')"
      ]
     },
     "execution_count": 35,
     "metadata": {},
     "output_type": "execute_result"
    }
   ],
   "source": [
    "df_types.columns"
   ]
  },
  {
   "cell_type": "code",
   "execution_count": 37,
   "metadata": {},
   "outputs": [
    {
     "data": {
      "text/html": [
       "<div>\n",
       "<style scoped>\n",
       "    .dataframe tbody tr th:only-of-type {\n",
       "        vertical-align: middle;\n",
       "    }\n",
       "\n",
       "    .dataframe tbody tr th {\n",
       "        vertical-align: top;\n",
       "    }\n",
       "\n",
       "    .dataframe thead th {\n",
       "        text-align: right;\n",
       "    }\n",
       "</style>\n",
       "<table border=\"1\" class=\"dataframe\">\n",
       "  <thead>\n",
       "    <tr style=\"text-align: right;\">\n",
       "      <th></th>\n",
       "      <th>detail_resource_name</th>\n",
       "      <th>id</th>\n",
       "      <th>list_resource_name</th>\n",
       "    </tr>\n",
       "  </thead>\n",
       "  <tbody>\n",
       "    <tr>\n",
       "      <th>0</th>\n",
       "      <td>character</td>\n",
       "      <td>4005</td>\n",
       "      <td>characters</td>\n",
       "    </tr>\n",
       "    <tr>\n",
       "      <th>1</th>\n",
       "      <td>chat</td>\n",
       "      <td>2450</td>\n",
       "      <td>chats</td>\n",
       "    </tr>\n",
       "    <tr>\n",
       "      <th>2</th>\n",
       "      <td>concept</td>\n",
       "      <td>4015</td>\n",
       "      <td>concepts</td>\n",
       "    </tr>\n",
       "    <tr>\n",
       "      <th>3</th>\n",
       "      <td>episode</td>\n",
       "      <td>4070</td>\n",
       "      <td>episodes</td>\n",
       "    </tr>\n",
       "    <tr>\n",
       "      <th>4</th>\n",
       "      <td>issue</td>\n",
       "      <td>4000</td>\n",
       "      <td>issues</td>\n",
       "    </tr>\n",
       "    <tr>\n",
       "      <th>5</th>\n",
       "      <td>location</td>\n",
       "      <td>4020</td>\n",
       "      <td>locations</td>\n",
       "    </tr>\n",
       "    <tr>\n",
       "      <th>6</th>\n",
       "      <td>movie</td>\n",
       "      <td>4025</td>\n",
       "      <td>movies</td>\n",
       "    </tr>\n",
       "    <tr>\n",
       "      <th>7</th>\n",
       "      <td>object</td>\n",
       "      <td>4055</td>\n",
       "      <td>objects</td>\n",
       "    </tr>\n",
       "    <tr>\n",
       "      <th>8</th>\n",
       "      <td>origin</td>\n",
       "      <td>4030</td>\n",
       "      <td>origins</td>\n",
       "    </tr>\n",
       "    <tr>\n",
       "      <th>9</th>\n",
       "      <td>person</td>\n",
       "      <td>4040</td>\n",
       "      <td>people</td>\n",
       "    </tr>\n",
       "    <tr>\n",
       "      <th>10</th>\n",
       "      <td>power</td>\n",
       "      <td>4035</td>\n",
       "      <td>powers</td>\n",
       "    </tr>\n",
       "    <tr>\n",
       "      <th>11</th>\n",
       "      <td>promo</td>\n",
       "      <td>1700</td>\n",
       "      <td>promos</td>\n",
       "    </tr>\n",
       "    <tr>\n",
       "      <th>12</th>\n",
       "      <td>publisher</td>\n",
       "      <td>4010</td>\n",
       "      <td>publishers</td>\n",
       "    </tr>\n",
       "    <tr>\n",
       "      <th>13</th>\n",
       "      <td>series</td>\n",
       "      <td>4075</td>\n",
       "      <td>series</td>\n",
       "    </tr>\n",
       "    <tr>\n",
       "      <th>14</th>\n",
       "      <td>story_arc</td>\n",
       "      <td>4045</td>\n",
       "      <td>story_arcs</td>\n",
       "    </tr>\n",
       "    <tr>\n",
       "      <th>15</th>\n",
       "      <td>team</td>\n",
       "      <td>4060</td>\n",
       "      <td>teams</td>\n",
       "    </tr>\n",
       "    <tr>\n",
       "      <th>16</th>\n",
       "      <td>video</td>\n",
       "      <td>2300</td>\n",
       "      <td>videos</td>\n",
       "    </tr>\n",
       "    <tr>\n",
       "      <th>17</th>\n",
       "      <td>video_type</td>\n",
       "      <td>2320</td>\n",
       "      <td>video_types</td>\n",
       "    </tr>\n",
       "    <tr>\n",
       "      <th>18</th>\n",
       "      <td>video_category</td>\n",
       "      <td>2320</td>\n",
       "      <td>video_categories</td>\n",
       "    </tr>\n",
       "    <tr>\n",
       "      <th>19</th>\n",
       "      <td>volume</td>\n",
       "      <td>4050</td>\n",
       "      <td>volumes</td>\n",
       "    </tr>\n",
       "  </tbody>\n",
       "</table>\n",
       "</div>"
      ],
      "text/plain": [
       "   detail_resource_name    id list_resource_name\n",
       "0             character  4005         characters\n",
       "1                  chat  2450              chats\n",
       "2               concept  4015           concepts\n",
       "3               episode  4070           episodes\n",
       "4                 issue  4000             issues\n",
       "5              location  4020          locations\n",
       "6                 movie  4025             movies\n",
       "7                object  4055            objects\n",
       "8                origin  4030            origins\n",
       "9                person  4040             people\n",
       "10                power  4035             powers\n",
       "11                promo  1700             promos\n",
       "12            publisher  4010         publishers\n",
       "13               series  4075             series\n",
       "14            story_arc  4045         story_arcs\n",
       "15                 team  4060              teams\n",
       "16                video  2300             videos\n",
       "17           video_type  2320        video_types\n",
       "18       video_category  2320   video_categories\n",
       "19               volume  4050            volumes"
      ]
     },
     "execution_count": 37,
     "metadata": {},
     "output_type": "execute_result"
    }
   ],
   "source": [
    "df_types.head(20)"
   ]
  },
  {
   "cell_type": "code",
   "execution_count": null,
   "metadata": {},
   "outputs": [],
   "source": []
  }
 ],
 "metadata": {
  "kernelspec": {
   "display_name": "Python 3",
   "language": "python",
   "name": "python3"
  },
  "language_info": {
   "codemirror_mode": {
    "name": "ipython",
    "version": 3
   },
   "file_extension": ".py",
   "mimetype": "text/x-python",
   "name": "python",
   "nbconvert_exporter": "python",
   "pygments_lexer": "ipython3",
   "version": "3.6.6"
  }
 },
 "nbformat": 4,
 "nbformat_minor": 2
}
