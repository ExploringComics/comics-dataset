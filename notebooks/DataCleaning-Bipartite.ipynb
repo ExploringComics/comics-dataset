{
 "cells": [
  {
   "cell_type": "code",
   "execution_count": 2,
   "metadata": {},
   "outputs": [],
   "source": [
    "import pandas as pd\n",
    "import numpy as np"
   ]
  },
  {
   "cell_type": "markdown",
   "metadata": {},
   "source": [
    "## Load cleaned dataset"
   ]
  },
  {
   "cell_type": "code",
   "execution_count": 3,
   "metadata": {},
   "outputs": [],
   "source": [
    "df = pd.read_json('data/characters_teams_powers_cleaned.json')"
   ]
  },
  {
   "cell_type": "code",
   "execution_count": 4,
   "metadata": {},
   "outputs": [
    {
     "data": {
      "text/plain": [
       "(7408, 24)"
      ]
     },
     "execution_count": 4,
     "metadata": {},
     "output_type": "execute_result"
    }
   ],
   "source": [
    "df.shape"
   ]
  },
  {
   "cell_type": "code",
   "execution_count": 37,
   "metadata": {},
   "outputs": [
    {
     "data": {
      "text/plain": [
       "Bad Characters        2991\n",
       "Good Characters       2465\n",
       "Neutral Characters     858\n",
       "Reformed Criminals       1\n",
       "Name: align, dtype: int64"
      ]
     },
     "execution_count": 37,
     "metadata": {},
     "output_type": "execute_result"
    }
   ],
   "source": [
    "df['align'].value_counts(normalize=True)*100"
   ]
  },
  {
   "cell_type": "code",
   "execution_count": 26,
   "metadata": {},
   "outputs": [
    {
     "data": {
      "text/plain": [
       "Human          3659\n",
       "Alien           962\n",
       "Other           698\n",
       "Mutant          593\n",
       "God/Eternal     584\n",
       "Robot           194\n",
       "Animal          173\n",
       "Cyborg          106\n",
       "Radiation        33\n",
       "Infection        26\n",
       "Name: origin, dtype: int64"
      ]
     },
     "execution_count": 26,
     "metadata": {},
     "output_type": "execute_result"
    }
   ],
   "source": [
    "df['origin'].value_counts(normalize=True)*100"
   ]
  },
  {
   "cell_type": "code",
   "execution_count": 52,
   "metadata": {
    "scrolled": false
   },
   "outputs": [
    {
     "data": {
      "text/plain": [
       "Human          47.900356\n",
       "Alien          12.811388\n",
       "Other          12.491103\n",
       "Mutant          8.896797\n",
       "God/Eternal     8.861210\n",
       "Robot           3.274021\n",
       "Cyborg          2.455516\n",
       "Animal          1.886121\n",
       "Radiation       0.889680\n",
       "Infection       0.533808\n",
       "Name: origin, dtype: float64"
      ]
     },
     "execution_count": 52,
     "metadata": {},
     "output_type": "execute_result"
    }
   ],
   "source": [
    "df[df['align']=='Bad Characters']['origin'].value_counts(normalize=True)*100"
   ]
  },
  {
   "cell_type": "code",
   "execution_count": 51,
   "metadata": {
    "scrolled": true
   },
   "outputs": [
    {
     "data": {
      "text/plain": [
       "Good Characters       44.098985\n",
       "Bad Characters        42.703046\n",
       "Neutral Characters    13.166244\n",
       "Reformed Criminals     0.031726\n",
       "Name: align, dtype: float64"
      ]
     },
     "execution_count": 51,
     "metadata": {},
     "output_type": "execute_result"
    }
   ],
   "source": [
    "df[df['origin']=='Human']['align'].value_counts(normalize=True)*100"
   ]
  },
  {
   "cell_type": "markdown",
   "metadata": {},
   "source": [
    "## Bipartition"
   ]
  },
  {
   "cell_type": "code",
   "execution_count": 54,
   "metadata": {},
   "outputs": [
    {
     "data": {
      "text/plain": [
       "[['Human', 'Bad Characters', 1346, 1346],\n",
       " ['Alien', 'Bad Characters', 360, 360],\n",
       " ['Other', 'Bad Characters', 351, 351],\n",
       " ['Mutant', 'Bad Characters', 250, 250],\n",
       " ['God/Eternal', 'Bad Characters', 249, 249],\n",
       " ['Robot', 'Bad Characters', 92, 92],\n",
       " ['Animal', 'Bad Characters', 53, 53],\n",
       " ['Cyborg', 'Bad Characters', 69, 69],\n",
       " ['Radiation', 'Bad Characters', 25, 25],\n",
       " ['Infection', 'Bad Characters', 15, 15],\n",
       " ['Human', 'Good Characters', 1390, 1390],\n",
       " ['Alien', 'Good Characters', 357, 357],\n",
       " ['Other', 'Good Characters', 158, 158],\n",
       " ['Mutant', 'Good Characters', 152, 152],\n",
       " ['God/Eternal', 'Good Characters', 171, 171],\n",
       " ['Robot', 'Good Characters', 64, 64],\n",
       " ['Animal', 'Good Characters', 73, 73],\n",
       " ['Cyborg', 'Good Characters', 17, 17],\n",
       " ['Radiation', 'Good Characters', 5, 5],\n",
       " ['Infection', 'Good Characters', 7, 7],\n",
       " ['Human', 'Neutral Characters', 415, 415],\n",
       " ['Alien', 'Neutral Characters', 116, 116],\n",
       " ['Other', 'Neutral Characters', 85, 85],\n",
       " ['Mutant', 'Neutral Characters', 99, 99],\n",
       " ['God/Eternal', 'Neutral Characters', 69, 69],\n",
       " ['Robot', 'Neutral Characters', 15, 15],\n",
       " ['Animal', 'Neutral Characters', 18, 18],\n",
       " ['Cyborg', 'Neutral Characters', 6, 6],\n",
       " ['Radiation', 'Neutral Characters', 2, 2],\n",
       " ['Human', 'Reformed Criminals', 1, 1]]"
      ]
     },
     "execution_count": 54,
     "metadata": {},
     "output_type": "execute_result"
    }
   ],
   "source": [
    "data = []\n",
    "for align, align_count in df['align'].value_counts().iteritems():\n",
    "    for origin, origin_count in df['origin'].value_counts().iteritems():\n",
    "        align_and_origin = len(df[(df['align']==align)&(df['origin']==origin)])\n",
    "        if align_and_origin != 0:\n",
    "            data.append([origin, align, int(align_and_origin), int(align_and_origin)])\n",
    "data"
   ]
  },
  {
   "cell_type": "code",
   "execution_count": null,
   "metadata": {},
   "outputs": [],
   "source": []
  },
  {
   "cell_type": "code",
   "execution_count": null,
   "metadata": {},
   "outputs": [],
   "source": []
  }
 ],
 "metadata": {
  "kernelspec": {
   "display_name": "Python 3",
   "language": "python",
   "name": "python3"
  },
  "language_info": {
   "codemirror_mode": {
    "name": "ipython",
    "version": 3
   },
   "file_extension": ".py",
   "mimetype": "text/x-python",
   "name": "python",
   "nbconvert_exporter": "python",
   "pygments_lexer": "ipython3",
   "version": "3.6.6"
  }
 },
 "nbformat": 4,
 "nbformat_minor": 2
}
